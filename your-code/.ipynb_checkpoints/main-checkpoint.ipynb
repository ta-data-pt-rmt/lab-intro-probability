{
 "cells": [
  {
   "cell_type": "markdown",
   "metadata": {},
   "source": [
    "# Introduction To Probability\n",
    "## Challenge 1\n",
    "\n",
    "A and B are events of a probability space with $(\\omega, \\sigma, P)$ such that $P(A) = 0.3$, $P(B) = 0.6$ and $P(A \\cap B) = 0.1$\n",
    "\n",
    "Which of the following statements are false?\n",
    "* $P(A \\cup B) = 0.6$\n",
    "* $P(A \\cap B^{C}) = 0.2$\n",
    "* $P(A \\cap (B \\cup B^{C})) = 0.4$\n",
    "* $P(A^{C} \\cap B^{C}) = 0.3$\n",
    "* $P((A \\cap B)^{C}) = 0.9$"
   ]
  },
  {
   "cell_type": "code",
   "execution_count": null,
   "metadata": {},
   "outputs": [],
   "source": [
    "\"\"\"\n",
    "your solution here\n",
    "\"\"\"\n",
    "\n",
    "# 𝑃(𝐴∪𝐵)=0.6  -> FALSE (it should be P(A)*P(B) = 0.3 * 0.6 = 0.18)\n",
    "# 𝑃(𝐴∩𝐵𝐶)=0.2 -> FALSE (we dont know C value so neither know the result of this event)\n",
    "# 𝑃(𝐴∩(𝐵∪𝐵𝐶))=0.4 -> FALSE (we dont know C value so neither know the result of this event)\n",
    "# 𝑃(𝐴𝐶∩𝐵𝐶)=0.3 -> FALSE (as both A and B are affected by the same number, final probaiblity shoulb 0.1 , the same than A/B)\n",
    "# 𝑃((𝐴∩𝐵)𝐶)=0.9 -> FALSE (we dont know C value so neither know the result of this event)"
   ]
  },
  {
   "cell_type": "markdown",
   "metadata": {},
   "source": [
    "## Challenge 2\n",
    "There is a box with 10 white balls, 12 red balls and 8 black balls. Calculate the probability of:\n",
    "* Taking a white ball out.\n",
    "* Taking a white ball out after taking a black ball out.\n",
    "* Taking a red ball out after taking a black and a red ball out.\n",
    "* Taking a red ball out after taking a black and a red ball out with reposition.\n",
    "\n",
    "**Hint**: Reposition means putting back the ball into the box after taking it out."
   ]
  },
  {
   "cell_type": "code",
   "execution_count": 7,
   "metadata": {},
   "outputs": [
    {
     "name": "stdout",
     "output_type": "stream",
     "text": [
      "Taking a white ball out:  0.3333333333333333\n",
      "Taking a white ball out after taking a black ball out:  0.3448275862068966\n",
      "Taking a red ball out after taking a black and a red ball out : 0.39285714285714285\n",
      "Taking a red ball out after taking a black and a red ball out with reposition:  0.4\n"
     ]
    }
   ],
   "source": [
    "\"\"\"\n",
    "your solution here\n",
    "\"\"\"\n",
    "\n",
    "w=10\n",
    "r=12\n",
    "b=8\n",
    "tot=30\n",
    "\n",
    "\n",
    "print('Taking a white ball out: ', w/tot)\n",
    "print('Taking a white ball out after taking a black ball out: ', w/(tot-1))\n",
    "print('Taking a red ball out after taking a black and a red ball out :', (r-1)/(tot-2))\n",
    "print('Taking a red ball out after taking a black and a red ball out with reposition: ', r/tot)"
   ]
  },
  {
   "cell_type": "markdown",
   "metadata": {},
   "source": [
    "## Challenge 3\n",
    "\n",
    "You are planning to go on a picnic today but the morning is cloudy. You hate rain so you don't know whether to go out or stay home! To help you make a decision, you gather the following data about rainy days:\n",
    "\n",
    "* Knowing that it is a rainy day, the probability of cloudy is 50%!\n",
    "* The probability of any day (rainy or not) starting off cloudy is 40%. \n",
    "* This month is usually dry so only 3 of 30 days (10%) tend to be rainy. \n",
    "\n",
    "What is the probability of rain, given the day started cloudy?"
   ]
  },
  {
   "cell_type": "code",
   "execution_count": 9,
   "metadata": {},
   "outputs": [
    {
     "name": "stdout",
     "output_type": "stream",
     "text": [
      "Probability of rain, given the day started cloudy:  0.125\n"
     ]
    }
   ],
   "source": [
    "# P(Cloudy/Rainy) \n",
    "pclr=0.5\n",
    "\n",
    "# P(Cloudy) \n",
    "pcl=0.4\n",
    "\n",
    "# P(Rainy) \n",
    "pr= 0.1\n",
    "\n",
    "# P(Rainy/Cloudy) = P(Cloudy/Rainy) * P(Rainy) / P(Cloudy)\n",
    "\n",
    "print('Probability of rain, given the day started cloudy: ', pclr*pr/pcl)"
   ]
  },
  {
   "cell_type": "markdown",
   "metadata": {},
   "source": [
    "## Challenge 4\n",
    "\n",
    "One thousand people were asked through a telephone survey whether they thought more street lighting is needed at night or not.\n",
    "\n",
    "Out of the 480 men that answered the survey, 324 said yes and 156 said no. On the other hand, out of the 520 women that answered, 351 said yes and 169 said no. \n",
    "\n",
    "We wonder if men and women have a different opinions about the street lighting matter. Is gender relevant or irrelevant to the question?\n",
    "\n",
    "Consider the following events:\n",
    "- The answer is yes, so the person that answered thinks that more street lighting is needed.\n",
    "- The person who answered is a man.\n",
    "\n",
    "We want to know if these events are independent, that is, if the fact of wanting more light depends on whether one is male or female. Are these events independent or not?\n",
    "\n",
    "**Hint**: To clearly compare the answers by gender, it is best to place the data in a table."
   ]
  },
  {
   "cell_type": "code",
   "execution_count": 32,
   "metadata": {},
   "outputs": [
    {
     "data": {
      "text/html": [
       "<div>\n",
       "<style scoped>\n",
       "    .dataframe tbody tr th:only-of-type {\n",
       "        vertical-align: middle;\n",
       "    }\n",
       "\n",
       "    .dataframe tbody tr th {\n",
       "        vertical-align: top;\n",
       "    }\n",
       "\n",
       "    .dataframe thead th {\n",
       "        text-align: right;\n",
       "    }\n",
       "</style>\n",
       "<table border=\"1\" class=\"dataframe\">\n",
       "  <thead>\n",
       "    <tr style=\"text-align: right;\">\n",
       "      <th></th>\n",
       "      <th>YES More Light</th>\n",
       "      <th>NO More Light</th>\n",
       "      <th>Total</th>\n",
       "    </tr>\n",
       "  </thead>\n",
       "  <tbody>\n",
       "    <tr>\n",
       "      <th>Man</th>\n",
       "      <td>0.675</td>\n",
       "      <td>0.325</td>\n",
       "      <td>0.48</td>\n",
       "    </tr>\n",
       "    <tr>\n",
       "      <th>Woman</th>\n",
       "      <td>0.675</td>\n",
       "      <td>0.325</td>\n",
       "      <td>0.52</td>\n",
       "    </tr>\n",
       "    <tr>\n",
       "      <th>Total</th>\n",
       "      <td>0.675</td>\n",
       "      <td>0.325</td>\n",
       "      <td>1.00</td>\n",
       "    </tr>\n",
       "  </tbody>\n",
       "</table>\n",
       "</div>"
      ],
      "text/plain": [
       "       YES More Light  NO More Light  Total\n",
       "Man             0.675          0.325   0.48\n",
       "Woman           0.675          0.325   0.52\n",
       "Total           0.675          0.325   1.00"
      ]
     },
     "metadata": {},
     "output_type": "display_data"
    },
    {
     "name": "stdout",
     "output_type": "stream",
     "text": [
      "Fact of wanting more light being female: 0.23692500000000002\n",
      "Fact of wanting more light being male: 0.21870000000000003\n"
     ]
    }
   ],
   "source": [
    "import pandas as pd\n",
    "\n",
    "total = 1000\n",
    "men_yes = 324\n",
    "men_no = 156\n",
    "wom_yes = 351\n",
    "wom_no = 169\n",
    "tot_men = men_yes+men_no\n",
    "tot_wom = wom_yes+wom_no\n",
    "\n",
    "\n",
    "data = {'YES More Light': [men_yes/tot_men,wom_yes/tot_wom,(men_yes+wom_yes)/total],\n",
    "        'NO More Light': [men_no/tot_men,wom_no/tot_wom, (men_no+wom_no)/total],\n",
    "        'Total': [tot_men/total,tot_wom/total, (tot_men+tot_wom)/total]}\n",
    "\n",
    "df = pd.DataFrame(data, index=['Man', 'Woman', 'Total'])\n",
    "\n",
    "display(df)\n",
    "\n",
    "pwyes = wom_yes/tot_wom   # P(woman/YES)\n",
    "pw = (wom_yes+wom_no)/total   # P(woman) \n",
    "\n",
    "pmyes = men_yes/tot_men   # P(man/YES)\n",
    "pm = (men_yes+men_no)/total   # P(man) \n",
    "\n",
    "pyes = (men_yes+wom_yes)/total  # P(YES)\n",
    "\n",
    "print('Fact of wanting more light being female:', pwyes*pyes*pw)\n",
    "print('Fact of wanting more light being male:', pwyes*pyes*pm)\n"
   ]
  },
  {
   "cell_type": "code",
   "execution_count": null,
   "metadata": {},
   "outputs": [],
   "source": [
    "# Based on the results it seems both results are independant, they don't have the same probability"
   ]
  }
 ],
 "metadata": {
  "kernelspec": {
   "display_name": "Python 3 (ipykernel)",
   "language": "python",
   "name": "python3"
  },
  "language_info": {
   "codemirror_mode": {
    "name": "ipython",
    "version": 3
   },
   "file_extension": ".py",
   "mimetype": "text/x-python",
   "name": "python",
   "nbconvert_exporter": "python",
   "pygments_lexer": "ipython3",
   "version": "3.9.12"
  }
 },
 "nbformat": 4,
 "nbformat_minor": 2
}
