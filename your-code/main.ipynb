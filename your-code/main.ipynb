{
 "cells": [
  {
   "cell_type": "markdown",
   "metadata": {},
   "source": [
    "# Introduction To Probability\n",
    "## Challenge 1\n",
    "\n",
    "A and B are events of a probability space with $(\\omega, \\sigma, P)$ such that $P(A) = 0.3$, $P(B) = 0.6$ and $P(A \\cap B) = 0.1$\n",
    "\n",
    "Which of the following statements are false?\n",
    "* $P(A \\cup B) = 0.6$\n",
    "* $P(A \\cap B^{C}) = 0.2$\n",
    "* $P(A \\cap (B \\cup B^{C})) = 0.4$\n",
    "* $P(A^{C} \\cap B^{C}) = 0.3$\n",
    "* $P((A \\cap B)^{C}) = 0.9$"
   ]
  },
  {
   "cell_type": "code",
   "execution_count": null,
   "metadata": {},
   "outputs": [],
   "source": [
    "# P(A U B) = 0.6           => FALSE\n",
    "# P(A ∩ B^C) = 0.2         => True\n",
    "# P(A ∩ (B U B^C)) = 0.4   => FALSE\n",
    "# P(A^C ∩ B^C) = 0.3       => True\n",
    "# P((A ∩ B)^C) = 0.9       => True"
   ]
  },
  {
   "cell_type": "markdown",
   "metadata": {},
   "source": [
    "## Challenge 2\n",
    "There is a box with 10 white balls, 12 red balls and 8 black balls. Calculate the probability of:\n",
    "* Taking a white ball out.\n",
    "* Taking a white ball out after taking a black ball out.\n",
    "* Taking a red ball out after taking a black and a red ball out.\n",
    "* Taking a red ball out after taking a black and a red ball out with reposition.\n",
    "\n",
    "**Hint**: Reposition means putting back the ball into the box after taking it out."
   ]
  },
  {
   "cell_type": "code",
   "execution_count": null,
   "metadata": {},
   "outputs": [],
   "source": [
    "# Taking a white ball out.\n",
    "# => P(10/30)\n",
    "# => 0.3333333333333333\n",
    "# => 33.33%\n",
    "\n",
    "# Taking a white ball out after taking a black ball out.\n",
    "# => P(8/30) * P(10/29)\n",
    "# => 0.2666666666666667 * 0.3448275862068966\n",
    "# => 0.09195402298850577\n",
    "# => 9.19%\n",
    "\n",
    "# Taking a red ball out after taking a black and a red ball out.\n",
    "# => P(8/30) * P(12/29) * P(11/28)\n",
    "# => 0.2666666666666667 * 0.4137931034482759 * 0.3928571428571429\n",
    "# => 0.0433497536945813\n",
    "# => 4.33%\n",
    "\n",
    "# Taking a red ball out after taking a black and a red ball out with reposition.\n",
    "# => P(8/30) * P(12/30) * P(12/30)\n",
    "# => 0.2666666666666667 * 0.4 * 0.4\n",
    "# => 0.04266666666666667\n",
    "# => 4.26%"
   ]
  },
  {
   "cell_type": "markdown",
   "metadata": {},
   "source": [
    "## Challenge 3\n",
    "\n",
    "You are planning to go on a picnic today but the morning is cloudy. You hate rain so you don't know whether to go out or stay home! To help you make a decision, you gather the following data about rainy days:\n",
    "\n",
    "* Knowing that it is a rainy day, the probability of cloudy is 50%!\n",
    "* The probability of any day (rainy or not) starting off cloudy is 40%. \n",
    "* This month is usually dry so only 3 of 30 days (10%) tend to be rainy. \n",
    "\n",
    "What is the probability of rain, given the day started cloudy?"
   ]
  },
  {
   "cell_type": "code",
   "execution_count": null,
   "metadata": {},
   "outputs": [],
   "source": [
    "# BAYES' THEOREM\n",
    "\n",
    "# A event being a rainy day.\n",
    "# B event being a cloudy day.\n",
    "\n",
    "# P(A|B) = (P(B|A) * P(A)) / P(B)\n",
    "# P(A|B) = 0.5 * 0.1 / 0.4\n",
    "# P(A|B) = 0.125\n",
    "# P(A|B) = 12.5%"
   ]
  },
  {
   "cell_type": "markdown",
   "metadata": {},
   "source": [
    "## Challenge 4\n",
    "\n",
    "One thousand people were asked through a telephone survey whether they thought more street lighting is needed at night or not.\n",
    "\n",
    "Out of the 480 men that answered the survey, 324 said yes and 156 said no. On the other hand, out of the 520 women that answered, 351 said yes and 169 said no. \n",
    "\n",
    "We wonder if men and women have a different opinions about the street lighting matter. Is gender relevant or irrelevant to the question?\n",
    "\n",
    "Consider the following events:\n",
    "- The answer is yes, so the person that answered thinks that more street lighting is needed.\n",
    "- The person who answered is a man.\n",
    "\n",
    "We want to know if these events are independent, that is, if the fact of wanting more light depends on whether one is male or female. Are these events independent or not?\n",
    "\n",
    "**Hint**: To clearly compare the answers by gender, it is best to place the data in a table."
   ]
  },
  {
   "cell_type": "code",
   "execution_count": null,
   "metadata": {},
   "outputs": [],
   "source": [
    "# JOINT PROBABILITY\n",
    "\n",
    "# Compare the product of the individual probabilities to the joint probability.\n",
    "# If the joint one is equal to the product of the two event ones, they are independent. \n",
    "\n",
    "#        Yes   No    Total\n",
    "# Male\t324\t156\t480\n",
    "# Female\t351\t169\t520\n",
    "# Total\t675\t325\t1000\n",
    "\n",
    "# Being a man and wanting more street lighting:\n",
    "# 324 / 1000 => 0.324 => 32.4% (JOINT)\n",
    "\n",
    "# Being a man:\n",
    "# 480 / 1000 => 0.48 => 48%\n",
    "\n",
    "# Wanting more street lighting:\n",
    "# 675 / 1000 => 0.675 => 67.5%\n",
    "\n",
    "# Individual probabilities\n",
    "# 0.48 * 0.675 = 0.324 => 32.4% (PRODUCT)\n",
    "\n",
    "# => 32.4% == 32.4%\n",
    "# => Both events are independent.\n",
    "# => The answer to the question doesn't depend on gender."
   ]
  }
 ],
 "metadata": {
  "kernelspec": {
   "display_name": "Python 3",
   "language": "python",
   "name": "python3"
  },
  "language_info": {
   "codemirror_mode": {
    "name": "ipython",
    "version": 3
   },
   "file_extension": ".py",
   "mimetype": "text/x-python",
   "name": "python",
   "nbconvert_exporter": "python",
   "pygments_lexer": "ipython3",
   "version": "3.11.0"
  },
  "vscode": {
   "interpreter": {
    "hash": "5238573367df39f7286bb46f9ff5f08f63a01a80960060ce41e3c79b190280fa"
   }
  }
 },
 "nbformat": 4,
 "nbformat_minor": 2
}
